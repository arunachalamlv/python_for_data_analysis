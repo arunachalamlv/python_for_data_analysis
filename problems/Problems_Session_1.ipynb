{
 "cells": [
  {
   "cell_type": "markdown",
   "id": "f7748561-e2b1-4f61-a2b2-f46447078b2c",
   "metadata": {},
   "source": [
    "## Activate the Virtual Environment and Start Jupyter Notebook "
   ]
  },
  {
   "cell_type": "markdown",
   "id": "9c4fb0be-7e6f-464c-891f-c83a3b7cdd50",
   "metadata": {},
   "source": [
    "### Activate Virtual Environment\n",
    "- Press the Windows Key.\n",
    "- Type \"cmd\" to search and Open Command Prompt.\n",
    "- Navigate folder where you have created the Virtual Environment using \"cd\" command.\n",
    "- Enter the command \"poetry shell\" to activate the virtual environment for problem solving.\n",
    "- Now you will see the virtual environment gets activated in your command prompt.\n",
    "\n",
    "### Start Jupyter Notebook\n",
    "- In command prompt enter the command \"jupyter notebook\" to start the notebook\n",
    "\n",
    "![activate virtual env](images/activate_env_and_start_notebook.png \"Title\")"
   ]
  },
  {
   "cell_type": "markdown",
   "id": "712ef1da-b529-4ea0-83fe-dfba7d9e713a",
   "metadata": {},
   "source": [
    "## 1. Think of you working as a Receptionist. What are the variables you will be using to save the data of the visitors visiting your office. "
   ]
  },
  {
   "cell_type": "code",
   "execution_count": null,
   "id": "151e4c05-06a0-4a83-9efc-1e2172fe1dd6",
   "metadata": {},
   "outputs": [],
   "source": []
  },
  {
   "cell_type": "code",
   "execution_count": null,
   "id": "7b59ed2e-f2ad-4691-b422-96e22ee22451",
   "metadata": {},
   "outputs": [],
   "source": []
  },
  {
   "cell_type": "code",
   "execution_count": null,
   "id": "10986eb0-4dd2-42e4-be4c-7339825189f8",
   "metadata": {},
   "outputs": [],
   "source": []
  },
  {
   "cell_type": "markdown",
   "id": "31bc5209-8b62-486d-8b62-80e1cb41c2fb",
   "metadata": {},
   "source": [
    "## 2. Use the Input Function collect number of records the user wanted to save and using above variable names in problem 1. create a for loop to collect data and save in a dictionary and finally display the data stored. "
   ]
  },
  {
   "cell_type": "code",
   "execution_count": null,
   "id": "2586d5b7-bcc9-403f-8861-c0ee0a4b152b",
   "metadata": {},
   "outputs": [],
   "source": []
  },
  {
   "cell_type": "code",
   "execution_count": null,
   "id": "62fb537d-2949-43e8-8f49-889d0e4d1155",
   "metadata": {},
   "outputs": [],
   "source": []
  },
  {
   "cell_type": "markdown",
   "id": "e6014dfc-7313-4fad-a020-7b300f7d7897",
   "metadata": {},
   "source": [
    "## 3.Create variable to collect the data of Credit Limit. If the Credit Limit is and above 10Lakhs. Write a python code to calculate downpayment for buy a property of worth 10M is 10% of the credit limit else 20% of the credit limit. "
   ]
  },
  {
   "cell_type": "code",
   "execution_count": null,
   "id": "4c8aa4b6-5879-43c6-a3c3-962bd4800261",
   "metadata": {},
   "outputs": [],
   "source": []
  }
 ],
 "metadata": {
  "kernelspec": {
   "display_name": "Python 3 (ipykernel)",
   "language": "python",
   "name": "python3"
  },
  "language_info": {
   "codemirror_mode": {
    "name": "ipython",
    "version": 3
   },
   "file_extension": ".py",
   "mimetype": "text/x-python",
   "name": "python",
   "nbconvert_exporter": "python",
   "pygments_lexer": "ipython3",
   "version": "3.8.0"
  }
 },
 "nbformat": 4,
 "nbformat_minor": 5
}
